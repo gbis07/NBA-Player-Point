{
 "cells": [
  {
   "cell_type": "code",
   "execution_count": 4,
   "metadata": {},
   "outputs": [],
   "source": [
    "from selenium import webdriver\n",
    "from selenium.webdriver.common.by import By\n",
    "from selenium.webdriver.support.ui import WebDriverWait\n",
    "from selenium.webdriver.support import expected_conditions as EC\n",
    "import pandas as pd"
   ]
  },
  {
   "cell_type": "code",
   "execution_count": 6,
   "metadata": {},
   "outputs": [
    {
     "name": "stdout",
     "output_type": "stream",
     "text": [
      "Headers: ['', 'PLAYER', 'TEAM', 'AGE', 'GP', 'W', 'L', 'MIN', 'PTS', 'FGM', 'FGA', 'FG%', '3PM', '3PA', '3P%', 'FTM', 'FTA', 'FT%', 'OREB', 'DREB', 'REB', 'AST', 'TOV', 'STL', 'BLK', 'PF', 'FP', 'DD2', 'TD3', '+/-', '', '', '', '', '', '', '', '', '', '', '', '', '', '', '', '', '', '', '', '', '', '', '', '', '', '']\n",
      "Number of Headers: 56\n",
      "First Row: ['1', 'Joel Embiid', 'PHI', '30', '39', '31', '8', '33.6', '34.7', '11.5', '21.8', '52.9', '1.4', '3.6', '38.8', '10.2', '11.6', '88.3', '2.4', '8.6', '11.0', '5.6', '3.8', '1.2', '1.7', '2.9', '61.1', '30.0', '2.0', '6.8']\n",
      "Number of Columns in First Row: 30\n",
      "                       PLAYER TEAM AGE  GP   W   L   MIN   PTS   FGM  ...  \\\n",
      "0  1              Joel Embiid  PHI  30  39  31   8  33.6  34.7  11.5  ...   \n",
      "1  2              Luka Dončić  DAL  25  70  46  24  37.5  33.9  11.5  ...   \n",
      "2  3    Giannis Antetokounmpo  MIL  29  73  45  28  35.2  30.4  11.5  ...   \n",
      "3  4  Shai Gilgeous-Alexander  OKC  25  75  55  20  34.0  30.1  10.6  ...   \n",
      "4  5            Jalen Brunson  NYK  27  77  49  28  35.4  28.7  10.3  ...   \n",
      "\n",
      "    REB  AST  TOV  STL  BLK   PF    FP   DD2   TD3  +/-  \n",
      "0  11.0  5.6  3.8  1.2  1.7  2.9  61.1  30.0   2.0  6.8  \n",
      "1   9.2  9.8  4.0  1.4  0.5  2.1  61.5  49.0  21.0  4.6  \n",
      "2  11.5  6.5  3.4  1.2  1.1  2.9  57.4  57.0  10.0  4.6  \n",
      "3   5.5  6.2  2.2  2.0  0.9  2.5  52.5   8.0   0.0  8.2  \n",
      "4   3.6  6.7  2.4  0.9  0.2  1.9  44.0   9.0   0.0  6.6  \n",
      "\n",
      "[5 rows x 30 columns]\n"
     ]
    }
   ],
   "source": [
    "url = \"https://www.nba.com/stats/players/traditional?PerMode=PerGame&Season=2023-24\"\n",
    "#https://www.nba.com/stats/players/traditional?PerMode=PerGame&Season=2023-24&dir=A&sort=TEAM_ABBREVIATION\n",
    "driver = webdriver.Chrome()\n",
    "driver.get(url)\n",
    "\n",
    "try:\n",
    "\n",
    "    WebDriverWait(driver, 30).until(\n",
    "        EC.presence_of_element_located((By.XPATH, \"//table[contains(@class, 'Crom_table')]\"))\n",
    "    )\n",
    "\n",
    "    table = driver.find_element(By.XPATH, \"//table[contains(@class, 'Crom_table')]\")\n",
    "\n",
    "    headers = [header.text.strip() for header in table.find_elements(By.TAG_NAME, \"th\")]\n",
    "    print(f\"Headers: {headers}\")  # Debug print\n",
    "    print(f\"Number of Headers: {len(headers)}\")\n",
    "\n",
    "    rows = []\n",
    "    for row in table.find_elements(By.CSS_SELECTOR, \"tbody tr\"):\n",
    "        cells = [cell.text.strip() for cell in row.find_elements(By.TAG_NAME, \"td\")]\n",
    "        rows.append(cells)\n",
    "    print(f\"First Row: {rows[0] if rows else 'No rows extracted'}\")\n",
    "    print(f\"Number of Columns in First Row: {len(rows[0]) if rows else 0}\")\n",
    "\n",
    "    if rows and len(headers) != len(rows[0]):\n",
    "        min_columns = min(len(headers), len(rows[0]))\n",
    "        headers = headers[:min_columns]\n",
    "        rows = [row[:min_columns] for row in rows]\n",
    "\n",
    "    df = pd.DataFrame(rows, columns=headers)\n",
    "    print(df.head())  \n",
    "\n",
    "finally:\n",
    "    driver.quit()\n"
   ]
  },
  {
   "cell_type": "code",
   "execution_count": 8,
   "metadata": {},
   "outputs": [
    {
     "ename": "NameError",
     "evalue": "name 'i' is not defined",
     "output_type": "error",
     "traceback": [
      "\u001b[1;31m---------------------------------------------------------------------------\u001b[0m",
      "\u001b[1;31mNameError\u001b[0m                                 Traceback (most recent call last)",
      "Cell \u001b[1;32mIn[8], line 8\u001b[0m\n\u001b[0;32m      1\u001b[0m seasons \u001b[38;5;241m=\u001b[39m [\u001b[38;5;124m\"\u001b[39m\u001b[38;5;124m2003\u001b[39m\u001b[38;5;124m\"\u001b[39m,\u001b[38;5;124m\"\u001b[39m\u001b[38;5;124m2004\u001b[39m\u001b[38;5;124m\"\u001b[39m,\u001b[38;5;124m\"\u001b[39m\u001b[38;5;124m2005\u001b[39m\u001b[38;5;124m\"\u001b[39m,\u001b[38;5;124m\"\u001b[39m\u001b[38;5;124m2006\u001b[39m\u001b[38;5;124m\"\u001b[39m, \n\u001b[0;32m      2\u001b[0m            \u001b[38;5;124m\"\u001b[39m\u001b[38;5;124m2007\u001b[39m\u001b[38;5;124m\"\u001b[39m, \u001b[38;5;124m\"\u001b[39m\u001b[38;5;124m2008\u001b[39m\u001b[38;5;124m\"\u001b[39m, \u001b[38;5;124m\"\u001b[39m\u001b[38;5;124m2009\u001b[39m\u001b[38;5;124m\"\u001b[39m,\u001b[38;5;124m\"\u001b[39m\u001b[38;5;124m2010\u001b[39m\u001b[38;5;124m\"\u001b[39m,\n\u001b[0;32m      3\u001b[0m            \u001b[38;5;124m\"\u001b[39m\u001b[38;5;124m2012\u001b[39m\u001b[38;5;124m\"\u001b[39m,\u001b[38;5;124m\"\u001b[39m\u001b[38;5;124m2013\u001b[39m\u001b[38;5;124m\"\u001b[39m,\u001b[38;5;124m\"\u001b[39m\u001b[38;5;124m2014\u001b[39m\u001b[38;5;124m\"\u001b[39m,\u001b[38;5;124m\"\u001b[39m\u001b[38;5;124m2015\u001b[39m\u001b[38;5;124m\"\u001b[39m,\n\u001b[0;32m      4\u001b[0m            \u001b[38;5;124m\"\u001b[39m\u001b[38;5;124m2016\u001b[39m\u001b[38;5;124m\"\u001b[39m,\u001b[38;5;124m\"\u001b[39m\u001b[38;5;124m2017\u001b[39m\u001b[38;5;124m\"\u001b[39m, \u001b[38;5;124m\"\u001b[39m\u001b[38;5;124m2018\u001b[39m\u001b[38;5;124m\"\u001b[39m, \u001b[38;5;124m\"\u001b[39m\u001b[38;5;124m2019\u001b[39m\u001b[38;5;124m\"\u001b[39m,\n\u001b[0;32m      5\u001b[0m            \u001b[38;5;124m\"\u001b[39m\u001b[38;5;124m2020\u001b[39m\u001b[38;5;124m\"\u001b[39m, \u001b[38;5;124m\"\u001b[39m\u001b[38;5;124m2021\u001b[39m\u001b[38;5;124m\"\u001b[39m,\u001b[38;5;124m\"\u001b[39m\u001b[38;5;124m2022\u001b[39m\u001b[38;5;124m\"\u001b[39m,\u001b[38;5;124m\"\u001b[39m\u001b[38;5;124m2023\u001b[39m\u001b[38;5;124m\"\u001b[39m, \u001b[38;5;124m\"\u001b[39m\u001b[38;5;124m2024\u001b[39m\u001b[38;5;124m\"\u001b[39m]\n\u001b[0;32m      7\u001b[0m \u001b[38;5;28;01mfor\u001b[39;00m year \u001b[38;5;129;01min\u001b[39;00m seasons:\n\u001b[1;32m----> 8\u001b[0m     url \u001b[38;5;241m=\u001b[39m (\u001b[38;5;124mf\u001b[39m\u001b[38;5;124m\"\u001b[39m\u001b[38;5;124mhttps://www.nba.com/stats/players/traditional?PerMode=PerGame&Season=\u001b[39m\u001b[38;5;132;01m{\u001b[39;00mseasons[\u001b[43mi\u001b[49m]\u001b[38;5;132;01m}\u001b[39;00m\u001b[38;5;124m-\u001b[39m\u001b[38;5;132;01m{\u001b[39;00mseasons[i\u001b[38;5;241m+\u001b[39m\u001b[38;5;241m1\u001b[39m]\u001b[38;5;132;01m}\u001b[39;00m\u001b[38;5;124m\"\u001b[39m)\n\u001b[0;32m      9\u001b[0m     \u001b[38;5;66;03m#https://www.nba.com/stats/players/traditional?PerMode=PerGame&Season=2023-24&dir=A&sort=TEAM_ABBREVIATION\u001b[39;00m\n\u001b[0;32m     10\u001b[0m     driver \u001b[38;5;241m=\u001b[39m webdriver\u001b[38;5;241m.\u001b[39mChrome()\n",
      "\u001b[1;31mNameError\u001b[0m: name 'i' is not defined"
     ]
    }
   ],
   "source": [
    "seasons = [\"2003\",\"2004\",\"2005\",\"2006\", \n",
    "           \"2007\", \"2008\", \"2009\",\"2010\",\n",
    "           \"2012\",\"2013\",\"2014\",\"2015\",\n",
    "           \"2016\",\"2017\", \"2018\", \"2019\",\n",
    "           \"2020\", \"2021\",\"2022\",\"2023\", \"2024\"]\n",
    "\n",
    "for year in seasons:\n",
    "    url = (f\"https://www.nba.com/stats/players/traditional?PerMode=PerGame&Season={seasons[i]}-{seasons[i+1]}\")\n",
    "    #https://www.nba.com/stats/players/traditional?PerMode=PerGame&Season=2023-24&dir=A&sort=TEAM_ABBREVIATION\n",
    "    driver = webdriver.Chrome()\n",
    "    driver.get(url)\n",
    "\n",
    "    try:\n",
    "\n",
    "        WebDriverWait(driver, 30).until(\n",
    "            EC.presence_of_element_located((By.XPATH, \"//table[contains(@class, 'Crom_table')]\"))\n",
    "        )\n",
    "\n",
    "        table = driver.find_element(By.XPATH, \"//table[contains(@class, 'Crom_table')]\")\n",
    "\n",
    "        headers = [header.text.strip() for header in table.find_elements(By.TAG_NAME, \"th\")]\n",
    "        print(f\"Headers: {headers}\")  # Debug print\n",
    "        print(f\"Number of Headers: {len(headers)}\")\n",
    "\n",
    "        rows = []\n",
    "        for row in table.find_elements(By.CSS_SELECTOR, \"tbody tr\"):\n",
    "            cells = [cell.text.strip() for cell in row.find_elements(By.TAG_NAME, \"td\")]\n",
    "            rows.append(cells)\n",
    "        print(f\"First Row: {rows[0] if rows else 'No rows extracted'}\")\n",
    "        print(f\"Number of Columns in First Row: {len(rows[0]) if rows else 0}\")\n",
    "\n",
    "        if rows and len(headers) != len(rows[0]):\n",
    "            min_columns = min(len(headers), len(rows[0]))\n",
    "            headers = headers[:min_columns]\n",
    "            rows = [row[:min_columns] for row in rows]\n",
    "\n",
    "        df = pd.DataFrame(rows, columns=headers)\n",
    "        print(df.head())  \n",
    "\n",
    "    finally:\n",
    "        driver.quit()"
   ]
  }
 ],
 "metadata": {
  "kernelspec": {
   "display_name": "Python 3",
   "language": "python",
   "name": "python3"
  },
  "language_info": {
   "codemirror_mode": {
    "name": "ipython",
    "version": 3
   },
   "file_extension": ".py",
   "mimetype": "text/x-python",
   "name": "python",
   "nbconvert_exporter": "python",
   "pygments_lexer": "ipython3",
   "version": "3.12.6"
  }
 },
 "nbformat": 4,
 "nbformat_minor": 2
}
